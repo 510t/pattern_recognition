{
 "cells": [
  {
   "cell_type": "code",
   "execution_count": 14,
   "id": "0b767e90",
   "metadata": {
    "collapsed": true
   },
   "outputs": [
    {
     "name": "stdout",
     "output_type": "stream",
     "text": [
      "Collecting package metadata (current_repodata.json): ...working... done\n",
      "Solving environment: ...working... done\n",
      "\n",
      "# All requested packages already installed.\n",
      "\n",
      "\n",
      "Note: you may need to restart the kernel to use updated packages.\n",
      "Collecting package metadata (current_repodata.json): ...working... done\n",
      "Solving environment: ...working... done\n",
      "\n",
      "# All requested packages already installed.\n",
      "\n",
      "\n",
      "Note: you may need to restart the kernel to use updated packages.\n",
      "Collecting package metadata (current_repodata.json): ...working... done\n",
      "Solving environment: ...working... done\n",
      "\n",
      "## Package Plan ##\n",
      "\n",
      "  environment location: C:\\Users\\Pikam\\anaconda3\\envs\\regression\n",
      "\n",
      "  added / updated specs:\n",
      "    - matplotlib\n",
      "\n",
      "\n",
      "The following packages will be downloaded:\n",
      "\n",
      "    package                    |            build\n",
      "    ---------------------------|-----------------\n",
      "    cycler-0.11.0              |     pyhd3eb1b0_0          12 KB\n",
      "    jpeg-9e                    |       h2bbff1b_0         292 KB\n",
      "    kiwisolver-1.3.2           |   py39hd77b12b_0          56 KB\n",
      "    libwebp-1.2.2              |       h2bbff1b_0         658 KB\n",
      "    matplotlib-3.5.1           |   py39haa95532_1          29 KB\n",
      "    matplotlib-base-3.5.1      |   py39hd77b12b_1         5.6 MB\n",
      "    pillow-9.0.1               |   py39hdc2b20a_0         921 KB\n",
      "    tk-8.6.11                  |       h2bbff1b_1         3.3 MB\n",
      "    xz-5.2.5                   |       h8cc25b3_1         246 KB\n",
      "    zlib-1.2.12                |       h8cc25b3_2         116 KB\n",
      "    ------------------------------------------------------------\n",
      "                                           Total:        11.2 MB\n",
      "\n",
      "The following NEW packages will be INSTALLED:\n",
      "\n",
      "  brotli             pkgs/main/win-64::brotli-1.0.9-ha925a31_2\n",
      "  cycler             pkgs/main/noarch::cycler-0.11.0-pyhd3eb1b0_0\n",
      "  fonttools          pkgs/main/noarch::fonttools-4.25.0-pyhd3eb1b0_0\n",
      "  freetype           pkgs/main/win-64::freetype-2.10.4-hd328e21_0\n",
      "  icu                pkgs/main/win-64::icu-58.2-ha925a31_3\n",
      "  jpeg               pkgs/main/win-64::jpeg-9e-h2bbff1b_0\n",
      "  kiwisolver         pkgs/main/win-64::kiwisolver-1.3.2-py39hd77b12b_0\n",
      "  libpng             pkgs/main/win-64::libpng-1.6.37-h2a8f88b_0\n",
      "  libtiff            pkgs/main/win-64::libtiff-4.2.0-hd0e1b90_0\n",
      "  libwebp            pkgs/main/win-64::libwebp-1.2.2-h2bbff1b_0\n",
      "  lz4-c              pkgs/main/win-64::lz4-c-1.9.3-h2bbff1b_1\n",
      "  matplotlib         pkgs/main/win-64::matplotlib-3.5.1-py39haa95532_1\n",
      "  matplotlib-base    pkgs/main/win-64::matplotlib-base-3.5.1-py39hd77b12b_1\n",
      "  munkres            pkgs/main/noarch::munkres-1.1.4-py_0\n",
      "  pillow             pkgs/main/win-64::pillow-9.0.1-py39hdc2b20a_0\n",
      "  pyqt               pkgs/main/win-64::pyqt-5.9.2-py39hd77b12b_6\n",
      "  qt                 pkgs/main/win-64::qt-5.9.7-vc14h73c81de_0\n",
      "  sip                pkgs/main/win-64::sip-4.19.13-py39hd77b12b_0\n",
      "  tk                 pkgs/main/win-64::tk-8.6.11-h2bbff1b_1\n",
      "  xz                 pkgs/main/win-64::xz-5.2.5-h8cc25b3_1\n",
      "  zlib               pkgs/main/win-64::zlib-1.2.12-h8cc25b3_2\n",
      "  zstd               pkgs/main/win-64::zstd-1.4.9-h19a0ad4_0\n",
      "\n",
      "\n",
      "\n",
      "Downloading and Extracting Packages\n",
      "\n",
      "zlib-1.2.12          | 116 KB    |            |   0% \n",
      "zlib-1.2.12          | 116 KB    | ########## | 100% \n",
      "zlib-1.2.12          | 116 KB    | ########## | 100% \n",
      "\n",
      "matplotlib-base-3.5. | 5.6 MB    |            |   0% \n",
      "matplotlib-base-3.5. | 5.6 MB    | #5         |  16% \n",
      "matplotlib-base-3.5. | 5.6 MB    | ###4       |  35% \n",
      "matplotlib-base-3.5. | 5.6 MB    | #####4     |  55% \n",
      "matplotlib-base-3.5. | 5.6 MB    | #######4   |  74% \n",
      "matplotlib-base-3.5. | 5.6 MB    | #########4 |  94% \n",
      "matplotlib-base-3.5. | 5.6 MB    | ########## | 100% \n",
      "\n",
      "libwebp-1.2.2        | 658 KB    |            |   0% \n",
      "libwebp-1.2.2        | 658 KB    | ########## | 100% \n",
      "libwebp-1.2.2        | 658 KB    | ########## | 100% \n",
      "\n",
      "tk-8.6.11            | 3.3 MB    |            |   0% \n",
      "tk-8.6.11            | 3.3 MB    | ##7        |  27% \n",
      "tk-8.6.11            | 3.3 MB    | ######     |  61% \n",
      "tk-8.6.11            | 3.3 MB    | #########4 |  95% \n",
      "tk-8.6.11            | 3.3 MB    | ########## | 100% \n",
      "\n",
      "jpeg-9e              | 292 KB    |            |   0% \n",
      "jpeg-9e              | 292 KB    | ########## | 100% \n",
      "\n",
      "cycler-0.11.0        | 12 KB     |            |   0% \n",
      "cycler-0.11.0        | 12 KB     | ########## | 100% \n",
      "\n",
      "kiwisolver-1.3.2     | 56 KB     |            |   0% \n",
      "kiwisolver-1.3.2     | 56 KB     | ########## | 100% \n",
      "\n",
      "pillow-9.0.1         | 921 KB    |            |   0% \n",
      "pillow-9.0.1         | 921 KB    | #########7 |  97% \n",
      "pillow-9.0.1         | 921 KB    | ########## | 100% \n",
      "\n",
      "xz-5.2.5             | 246 KB    |            |   0% \n",
      "xz-5.2.5             | 246 KB    | ########## | 100% \n",
      "xz-5.2.5             | 246 KB    | ########## | 100% \n",
      "\n",
      "matplotlib-3.5.1     | 29 KB     |            |   0% \n",
      "matplotlib-3.5.1     | 29 KB     | #####4     |  55% \n",
      "matplotlib-3.5.1     | 29 KB     | ########## | 100% \n",
      "Preparing transaction: ...working... done\n",
      "Verifying transaction: ...working... done\n",
      "Executing transaction: ...working... done\n",
      "\n",
      "Note: you may need to restart the kernel to use updated packages.\n"
     ]
    }
   ],
   "source": [
    "%conda install numpy\n",
    "%conda install pandas\n",
    "%conda install matplotlib"
   ]
  },
  {
   "cell_type": "code",
   "execution_count": 183,
   "id": "2d7ea204",
   "metadata": {},
   "outputs": [],
   "source": [
    "import numpy as np\n",
    "import pandas as pd\n",
    "import matplotlib.pyplot as plt"
   ]
  },
  {
   "cell_type": "markdown",
   "id": "f10fb9f2",
   "metadata": {},
   "source": [
    "## data"
   ]
  },
  {
   "cell_type": "markdown",
   "id": "d76c22e3",
   "metadata": {},
   "source": [
    "I used the market history dataset of Xindian District, New Taipei City, Taiwan (https://archive.ics.uci.edu/ml/datasets/Real+estate+valuation+data+set).\n",
    "\n",
    "The model predict \"house price of unit area\" from \"distance to the nearest MRT station\".\n",
    "\n",
    "All data were split into training data of size 334 and test data of size 80 for the experiment."
   ]
  },
  {
   "cell_type": "code",
   "execution_count": 184,
   "id": "b9d54c25",
   "metadata": {},
   "outputs": [
    {
     "data": {
      "text/html": [
       "<div>\n",
       "<style scoped>\n",
       "    .dataframe tbody tr th:only-of-type {\n",
       "        vertical-align: middle;\n",
       "    }\n",
       "\n",
       "    .dataframe tbody tr th {\n",
       "        vertical-align: top;\n",
       "    }\n",
       "\n",
       "    .dataframe thead th {\n",
       "        text-align: right;\n",
       "    }\n",
       "</style>\n",
       "<table border=\"1\" class=\"dataframe\">\n",
       "  <thead>\n",
       "    <tr style=\"text-align: right;\">\n",
       "      <th></th>\n",
       "      <th>No</th>\n",
       "      <th>X1 transaction date</th>\n",
       "      <th>X2 house age</th>\n",
       "      <th>X3 distance to the nearest MRT station</th>\n",
       "      <th>X4 number of convenience stores</th>\n",
       "      <th>X5 latitude</th>\n",
       "      <th>X6 longitude</th>\n",
       "      <th>Y house price of unit area</th>\n",
       "    </tr>\n",
       "  </thead>\n",
       "  <tbody>\n",
       "    <tr>\n",
       "      <th>0</th>\n",
       "      <td>1</td>\n",
       "      <td>2012.917</td>\n",
       "      <td>32.0</td>\n",
       "      <td>84.87882</td>\n",
       "      <td>10</td>\n",
       "      <td>24.98298</td>\n",
       "      <td>121.54024</td>\n",
       "      <td>37.9</td>\n",
       "    </tr>\n",
       "    <tr>\n",
       "      <th>1</th>\n",
       "      <td>2</td>\n",
       "      <td>2012.917</td>\n",
       "      <td>19.5</td>\n",
       "      <td>306.59470</td>\n",
       "      <td>9</td>\n",
       "      <td>24.98034</td>\n",
       "      <td>121.53951</td>\n",
       "      <td>42.2</td>\n",
       "    </tr>\n",
       "    <tr>\n",
       "      <th>2</th>\n",
       "      <td>3</td>\n",
       "      <td>2013.583</td>\n",
       "      <td>13.3</td>\n",
       "      <td>561.98450</td>\n",
       "      <td>5</td>\n",
       "      <td>24.98746</td>\n",
       "      <td>121.54391</td>\n",
       "      <td>47.3</td>\n",
       "    </tr>\n",
       "    <tr>\n",
       "      <th>3</th>\n",
       "      <td>4</td>\n",
       "      <td>2013.500</td>\n",
       "      <td>13.3</td>\n",
       "      <td>561.98450</td>\n",
       "      <td>5</td>\n",
       "      <td>24.98746</td>\n",
       "      <td>121.54391</td>\n",
       "      <td>54.8</td>\n",
       "    </tr>\n",
       "    <tr>\n",
       "      <th>4</th>\n",
       "      <td>5</td>\n",
       "      <td>2012.833</td>\n",
       "      <td>5.0</td>\n",
       "      <td>390.56840</td>\n",
       "      <td>5</td>\n",
       "      <td>24.97937</td>\n",
       "      <td>121.54245</td>\n",
       "      <td>43.1</td>\n",
       "    </tr>\n",
       "    <tr>\n",
       "      <th>...</th>\n",
       "      <td>...</td>\n",
       "      <td>...</td>\n",
       "      <td>...</td>\n",
       "      <td>...</td>\n",
       "      <td>...</td>\n",
       "      <td>...</td>\n",
       "      <td>...</td>\n",
       "      <td>...</td>\n",
       "    </tr>\n",
       "    <tr>\n",
       "      <th>409</th>\n",
       "      <td>410</td>\n",
       "      <td>2013.000</td>\n",
       "      <td>13.7</td>\n",
       "      <td>4082.01500</td>\n",
       "      <td>0</td>\n",
       "      <td>24.94155</td>\n",
       "      <td>121.50381</td>\n",
       "      <td>15.4</td>\n",
       "    </tr>\n",
       "    <tr>\n",
       "      <th>410</th>\n",
       "      <td>411</td>\n",
       "      <td>2012.667</td>\n",
       "      <td>5.6</td>\n",
       "      <td>90.45606</td>\n",
       "      <td>9</td>\n",
       "      <td>24.97433</td>\n",
       "      <td>121.54310</td>\n",
       "      <td>50.0</td>\n",
       "    </tr>\n",
       "    <tr>\n",
       "      <th>411</th>\n",
       "      <td>412</td>\n",
       "      <td>2013.250</td>\n",
       "      <td>18.8</td>\n",
       "      <td>390.96960</td>\n",
       "      <td>7</td>\n",
       "      <td>24.97923</td>\n",
       "      <td>121.53986</td>\n",
       "      <td>40.6</td>\n",
       "    </tr>\n",
       "    <tr>\n",
       "      <th>412</th>\n",
       "      <td>413</td>\n",
       "      <td>2013.000</td>\n",
       "      <td>8.1</td>\n",
       "      <td>104.81010</td>\n",
       "      <td>5</td>\n",
       "      <td>24.96674</td>\n",
       "      <td>121.54067</td>\n",
       "      <td>52.5</td>\n",
       "    </tr>\n",
       "    <tr>\n",
       "      <th>413</th>\n",
       "      <td>414</td>\n",
       "      <td>2013.500</td>\n",
       "      <td>6.5</td>\n",
       "      <td>90.45606</td>\n",
       "      <td>9</td>\n",
       "      <td>24.97433</td>\n",
       "      <td>121.54310</td>\n",
       "      <td>63.9</td>\n",
       "    </tr>\n",
       "  </tbody>\n",
       "</table>\n",
       "<p>414 rows × 8 columns</p>\n",
       "</div>"
      ],
      "text/plain": [
       "      No  X1 transaction date  X2 house age  \\\n",
       "0      1             2012.917          32.0   \n",
       "1      2             2012.917          19.5   \n",
       "2      3             2013.583          13.3   \n",
       "3      4             2013.500          13.3   \n",
       "4      5             2012.833           5.0   \n",
       "..   ...                  ...           ...   \n",
       "409  410             2013.000          13.7   \n",
       "410  411             2012.667           5.6   \n",
       "411  412             2013.250          18.8   \n",
       "412  413             2013.000           8.1   \n",
       "413  414             2013.500           6.5   \n",
       "\n",
       "     X3 distance to the nearest MRT station  X4 number of convenience stores  \\\n",
       "0                                  84.87882                               10   \n",
       "1                                 306.59470                                9   \n",
       "2                                 561.98450                                5   \n",
       "3                                 561.98450                                5   \n",
       "4                                 390.56840                                5   \n",
       "..                                      ...                              ...   \n",
       "409                              4082.01500                                0   \n",
       "410                                90.45606                                9   \n",
       "411                               390.96960                                7   \n",
       "412                               104.81010                                5   \n",
       "413                                90.45606                                9   \n",
       "\n",
       "     X5 latitude  X6 longitude  Y house price of unit area  \n",
       "0       24.98298     121.54024                        37.9  \n",
       "1       24.98034     121.53951                        42.2  \n",
       "2       24.98746     121.54391                        47.3  \n",
       "3       24.98746     121.54391                        54.8  \n",
       "4       24.97937     121.54245                        43.1  \n",
       "..           ...           ...                         ...  \n",
       "409     24.94155     121.50381                        15.4  \n",
       "410     24.97433     121.54310                        50.0  \n",
       "411     24.97923     121.53986                        40.6  \n",
       "412     24.96674     121.54067                        52.5  \n",
       "413     24.97433     121.54310                        63.9  \n",
       "\n",
       "[414 rows x 8 columns]"
      ]
     },
     "execution_count": 184,
     "metadata": {},
     "output_type": "execute_result"
    }
   ],
   "source": [
    "_df = pd.read_csv('data.csv')\n",
    "_df"
   ]
  },
  {
   "cell_type": "code",
   "execution_count": 185,
   "id": "247f41e7",
   "metadata": {},
   "outputs": [],
   "source": [
    "x = _df['X3 distance to the nearest MRT station']\n",
    "y = _df['Y house price of unit area']"
   ]
  },
  {
   "cell_type": "code",
   "execution_count": 186,
   "id": "aeac1f8e",
   "metadata": {},
   "outputs": [
    {
     "data": {
      "text/plain": [
       "<matplotlib.collections.PathCollection at 0x24ecf5a0df0>"
      ]
     },
     "execution_count": 186,
     "metadata": {},
     "output_type": "execute_result"
    },
    {
     "data": {
      "image/png": "[encoded data removed]",
      "text/plain": [
       "<Figure size 432x288 with 1 Axes>"
      ]
     },
     "metadata": {
      "needs_background": "light"
     },
     "output_type": "display_data"
    }
   ],
   "source": [
    "fig = plt.figure()\n",
    "ax = fig.add_subplot(1, 1, 1)\n",
    "ax.scatter(x, y)"
   ]
  },
  {
   "cell_type": "markdown",
   "id": "d1aea251",
   "metadata": {},
   "source": [
    "test data and train data"
   ]
  },
  {
   "cell_type": "code",
   "execution_count": 187,
   "id": "13620862",
   "metadata": {
    "scrolled": true
   },
   "outputs": [],
   "source": [
    "df_size = len(_df)\n",
    "np.random.seed(0)\n",
    "rand_ids = np.random.choice(df_size, df_size, replace=False)\n",
    "train_size = 334\n",
    "train_ids = rand_ids[:train_size]\n",
    "test_ids = rand_ids[train_size:]\n",
    "\n",
    "train_x = x[train_ids]\n",
    "test_x = x[test_ids]\n",
    "train_y = y[train_ids]\n",
    "test_y = y[test_ids]"
   ]
  },
  {
   "cell_type": "markdown",
   "id": "edb0819d",
   "metadata": {},
   "source": [
    "## Polynomial Curve Fitting\n",
    "### 1-order\n",
    "$$\n",
    "\\hat{y} = w_0 + w_1x\n",
    "$$\n",
    "Loss(least squares error)：\n",
    "$$\n",
    "L = \\frac{1}{2}\\sum_{n=1}^{N} \\{\\hat{y_n}−y_n\\}^2\n",
    "$$\n",
    "By solving $\\frac{\\partial L}{\\partial w_0} = 0, \\frac{\\partial L}{\\partial w_1} = 0,$\n",
    "$$\n",
    "\\begin{split}\n",
    "    w_0 &= \\bar{y} - w_1\\bar{x} \\\\\n",
    "    w_1 &= \\frac{\\sum_{n=1}^{N}\\{(x_n-\\bar{x})(y_n-\\bar{y})\\}}{\\sum_{n=1}^{N}(x_n-\\bar{x})^2}\n",
    "\\end{split}\n",
    "$$\n",
    "※$\\bar{x}$ is mean of $x$."
   ]
  },
  {
   "cell_type": "code",
   "execution_count": 188,
   "id": "b9a31361",
   "metadata": {},
   "outputs": [],
   "source": [
    "def poly_1(x, y):\n",
    "    x_bar = x.mean()\n",
    "    y_bar = y.mean()\n",
    "    w_1 = np.dot(x - x_bar, y - y_bar) / ((x - x_bar)**2).sum()\n",
    "    w_0 = y_bar - w_1*x_bar\n",
    "    return w_0, w_1"
   ]
  },
  {
   "cell_type": "code",
   "execution_count": 189,
   "id": "95f4e0fa",
   "metadata": {},
   "outputs": [
    {
     "data": {
      "text/plain": [
       "[<matplotlib.lines.Line2D at 0x24ecf65b6a0>]"
      ]
     },
     "execution_count": 189,
     "metadata": {},
     "output_type": "execute_result"
    },
    {
     "data": {
      "image/png": "[encoded data removed]",
      "text/plain": [
       "<Figure size 432x288 with 1 Axes>"
      ]
     },
     "metadata": {
      "needs_background": "light"
     },
     "output_type": "display_data"
    }
   ],
   "source": [
    "w_0, w_1 = poly_1(train_x, train_y)\n",
    "predict_y = w_0 + w_1*test_x\n",
    "\n",
    "fig = plt.figure()\n",
    "ax = fig.add_subplot(1, 1, 1)\n",
    "ax.scatter(test_x, test_y)\n",
    "ax.plot(test_x, predict_y, 'orange')"
   ]
  },
  {
   "cell_type": "markdown",
   "id": "1fe362c2",
   "metadata": {},
   "source": [
    "### Model Ealuation by RMSE\n",
    "$$\n",
    "RMSE = \\sqrt{\\frac{\\sum(y_n - \\hat{y}_n)^2}{n}}\n",
    "$$\n",
    "The value of RMSE (= 9.64) was obtained by："
   ]
  },
  {
   "cell_type": "code",
   "execution_count": 190,
   "id": "72a0114c",
   "metadata": {},
   "outputs": [
    {
     "name": "stdout",
     "output_type": "stream",
     "text": [
      "RMSE = 9.643847106781328\n"
     ]
    }
   ],
   "source": [
    "test_size = df_size - train_size\n",
    "RMSE = np.sqrt( ((test_y - predict_y)**2).sum() / test_size )\n",
    "print(f'RMSE = {RMSE}')"
   ]
  },
  {
   "cell_type": "markdown",
   "id": "6171d02d",
   "metadata": {},
   "source": [
    "## Linear Basis Function Models"
   ]
  },
  {
   "cell_type": "markdown",
   "id": "e5051fad",
   "metadata": {},
   "source": [
    "### Gaussian Basis Function\n",
    "$$\n",
    "\\begin{split}\n",
    "    \\hat{y} &= \\sum^{M−1}_{j=0}w_jφ_j(x) = \\mathbf{w}^T\\mathbf{\\phi}(\\mathbf{x})\n",
    "\\end{split}\n",
    "$$\n",
    "where $ \\mathbf{w} = (w_0 , ..,w_{M−1})^T, \\mathbf{\\phi} = (\\phi_0, ..,\\phi_{M−1})^T,$ and $ \\phi_0(x) = 1, $\n",
    "and\n",
    "$$\n",
    "\\phi_j(x) = \\exp\\left[-\\frac{(x−\\mu_j)^2}{2s^2}\\right]\n",
    "$$\n",
    "hyperparameter:\n",
    "$$\n",
    "\\begin{split}\n",
    "    M &= 5\\\\\n",
    "    s &= \\text{standard error of train data }x\\\\\n",
    "    \\mu_{1,...,4} &= [500, 1500, 2500, 3500]\n",
    "\\end{split}\n",
    "$$"
   ]
  },
  {
   "cell_type": "markdown",
   "id": "bfe5a12b",
   "metadata": {},
   "source": [
    "Design Matrix:\n",
    "$$\n",
    "\\Phi = \n",
    "\\begin{pmatrix}\n",
    "\\phi_0(x_1) & \\phi_1(x_1) & ... & \\phi_4(x_1) \\\\\n",
    "\\phi_0(x_2) & \\phi_1(x_2) & ... & \\phi_4(x_2) \\\\\n",
    "... & ...  & ... & ... \\\\\n",
    "\\phi_0(x_n) & \\phi_1(x_n) & ... & \\phi_4(x_n)\n",
    "\\end{pmatrix}\n",
    "$$\n",
    "By solving least squares loss,\n",
    "$$\n",
    "\\mathbf{w} = (\\Phi^T\\Phi)^{−1}\\Phi^T\\mathbf{y}\n",
    "$$"
   ]
  },
  {
   "cell_type": "code",
   "execution_count": 203,
   "id": "2e7191a7",
   "metadata": {},
   "outputs": [],
   "source": [
    "def gauss(x, s, mu):\n",
    "    phi = np.exp( - (x - mu)**2 / (2 * s**2) )\n",
    "    \n",
    "    return phi\n",
    "\n",
    "def gaussian_phi(x, s, mu):\n",
    "    n = x.size\n",
    "    M = len(mu)+1\n",
    "    phi = np.ones((n, M))\n",
    "    \n",
    "    for m in range(M-1):\n",
    "        phi[:,m+1] = gauss(x, s, mu[m])\n",
    "        \n",
    "    return phi\n",
    "\n",
    "def gaussian_basis(x, y, s, mu):\n",
    "    phi = gaussian_phi(x, s ,mu)\n",
    "    w = np.linalg.inv( np.dot(phi.T, phi) ).dot(phi.T).dot(y)\n",
    "    \n",
    "    return w"
   ]
  },
  {
   "cell_type": "code",
   "execution_count": 210,
   "id": "95f5240c",
   "metadata": {},
   "outputs": [
    {
     "name": "stdout",
     "output_type": "stream",
     "text": [
      "s = 1327.1242076187273\n",
      "μ = [500, 1500, 2500, 3500]\n"
     ]
    },
    {
     "data": {
      "text/plain": [
       "<matplotlib.collections.PathCollection at 0x24ecf147bb0>"
      ]
     },
     "execution_count": 210,
     "metadata": {},
     "output_type": "execute_result"
    },
    {
     "data": {
      "image/png": "[encoded data removed]",
      "text/plain": [
       "<Figure size 432x288 with 1 Axes>"
      ]
     },
     "metadata": {
      "needs_background": "light"
     },
     "output_type": "display_data"
    }
   ],
   "source": [
    "s = train_x.std()\n",
    "print(f's = {s}')\n",
    "mu = [500,1500,2500,3500]\n",
    "print(f'μ = {mu}')\n",
    "\n",
    "w = gaussian_basis(train_x, train_y, s, mu)\n",
    "test_x_gaussian_phi = gaussian_phi(test_x, s, mu)\n",
    "predict_y = np.dot(test_x_gaussian_phi, w)\n",
    "\n",
    "fig = plt.figure()\n",
    "ax = fig.add_subplot(1, 1, 1)\n",
    "ax.scatter(test_x, test_y)\n",
    "ax.scatter(test_x, predict_y,c='orange')"
   ]
  },
  {
   "cell_type": "markdown",
   "id": "2d42ffae",
   "metadata": {},
   "source": [
    "### Model Ealuation by RMSE\n",
    "$$\n",
    "RMSE = \\sqrt{\\frac{\\sum(y_n - \\hat{y}_n)^2}{n}}\n",
    "$$\n",
    "The value of RMSE (= 8.85) was obtained by："
   ]
  },
  {
   "cell_type": "code",
   "execution_count": 211,
   "id": "ce3bd2e5",
   "metadata": {},
   "outputs": [
    {
     "name": "stdout",
     "output_type": "stream",
     "text": [
      "RMSE = 8.851352568509279\n"
     ]
    }
   ],
   "source": [
    "test_size = df_size - train_size\n",
    "RMSE = np.sqrt( ((test_y - predict_y)**2).sum() / test_size )\n",
    "print(f'RMSE = {RMSE}')"
   ]
  },
  {
   "cell_type": "markdown",
   "id": "0ae49a2b",
   "metadata": {},
   "source": [
    "## Consideration\n",
    "The non-linear Gaussian basis function model was more accurate than the linear model, as expected."
   ]
  }
 ],
 "metadata": {
  "kernelspec": {
   "display_name": "Python 3 (ipykernel)",
   "language": "python",
   "name": "python3"
  },
  "language_info": {
   "codemirror_mode": {
    "name": "ipython",
    "version": 3
   },
   "file_extension": ".py",
   "mimetype": "text/x-python",
   "name": "python",
   "nbconvert_exporter": "python",
   "pygments_lexer": "ipython3",
   "version": "3.9.12"
  }
 },
 "nbformat": 4,
 "nbformat_minor": 5
}
